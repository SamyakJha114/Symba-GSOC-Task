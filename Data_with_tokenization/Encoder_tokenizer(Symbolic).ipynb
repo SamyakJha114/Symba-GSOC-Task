{
  "nbformat": 4,
  "nbformat_minor": 0,
  "metadata": {
    "colab": {
      "provenance": []
    },
    "kernelspec": {
      "name": "python3",
      "display_name": "Python 3"
    },
    "language_info": {
      "name": "python"
    }
  },
  "cells": [
    {
      "cell_type": "code",
      "source": [
        "symbols = [\"<pad>\",\"+\", \"-\"]\n",
        "symbols.extend(\n",
        "            [\"N\" + f\"%0{3}d\" % i for i in range(10**3)]\n",
        "        )\n",
        "symbols.extend(\n",
        "            [\"E\" + str(i) for i in range(-100,101)]\n",
        "        )"
      ],
      "metadata": {
        "id": "XdFT5HMado60"
      },
      "execution_count": null,
      "outputs": []
    },
    {
      "cell_type": "code",
      "source": [
        "symbols"
      ],
      "metadata": {
        "id": "lNRXCYsvw-jN"
      },
      "execution_count": null,
      "outputs": []
    },
    {
      "cell_type": "code",
      "source": [
        "len(symbols)"
      ],
      "metadata": {
        "id": "vacMZNiTxRYo"
      },
      "execution_count": null,
      "outputs": []
    },
    {
      "cell_type": "code",
      "source": [
        "with open(\"encoder_vocab.txt\", \"w\", encoding=\"utf-8\") as file:\n",
        "  for item in symbols:\n",
        "    file.write(item + \"\\n\")"
      ],
      "metadata": {
        "id": "I3FZOQ1hxV-J"
      },
      "execution_count": null,
      "outputs": []
    },
    {
      "cell_type": "code",
      "source": [
        "def chunks(lst, n):\n",
        "    \"\"\"Yield successive n-sized chunks from lst.\"\"\"\n",
        "    for i in range(0, len(lst), n):\n",
        "        yield lst[i : i + n]"
      ],
      "metadata": {
        "id": "UfK6v820UYmH"
      },
      "execution_count": null,
      "outputs": []
    },
    {
      "cell_type": "code",
      "source": [
        "class Encoder_tokeniser():\n",
        "  def __init__(self,precision,mantissa_len,max_exponent):\n",
        "    self.precision = precision\n",
        "    self.mantissa_len = mantissa_len\n",
        "    self.max_exponent = max_exponent\n",
        "    self.base = (self.float_precision + 1) // self.mantissa_len\n",
        "    self.max_token = 10 ** self.base\n",
        "  def encode(self,values):\n",
        "    seq = []\n",
        "    value = values\n",
        "    for val in value:\n",
        "    if val in [-np.inf, np.inf]:\n",
        "        seq.extend(['<pad>']*3)\n",
        "        continue\n",
        "    sign = \"+\" if val >= 0 else \"-\"\n",
        "    m, e = (f\"%.{self.precision}e\" % val).split(\"e\")\n",
        "    i, f = m.lstrip(\"-\").split(\".\")\n",
        "    i = i + f\n",
        "    tokens = chunks(i, base)\n",
        "    expon = int(e) - self.precision\n",
        "    if expon < -self.max_exponent:\n",
        "        tokens = [\"0\" * self.base] * self.mantissa_len\n",
        "        expon = int(0)\n",
        "    seq.extend([sign, *[\"N\" + token for token in tokens], \"E\" + str(expon)])\n",
        "    return seq\n",
        "  def decode(self,seq):\n",
        "    decoded_seq = []\n",
        "    for val in chunks(lst, 2 + self.mantissa_len):\n",
        "    for x in val:\n",
        "        if x[0] not in [\"-\", \"+\", \"E\", \"N\"]:\n",
        "            return np.nan\n",
        "    try:\n",
        "        sign = 1 if val[0] == \"+\" else -1\n",
        "        mant = \"\"\n",
        "        for x in val[1:-1]:\n",
        "            mant += x[1:]\n",
        "        mant = int(mant)\n",
        "        exp = int(val[-1][1:])\n",
        "        value = sign * mant * (10 ** exp)\n",
        "        value = float(value)\n",
        "    except Exception:\n",
        "        value = np.nan\n",
        "    decoded_seq.append(value)\n",
        "    return decoded_seq"
      ],
      "metadata": {
        "id": "v8OmyUMVLvkR"
      },
      "execution_count": null,
      "outputs": []
    },
    {
      "cell_type": "code",
      "source": [],
      "metadata": {
        "id": "BjqHcTzhWW8c"
      },
      "execution_count": null,
      "outputs": []
    }
  ]
}